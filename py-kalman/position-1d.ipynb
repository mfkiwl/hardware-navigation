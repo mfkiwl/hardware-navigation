{
 "cells": [
  {
   "cell_type": "markdown",
   "id": "91b57d7f-b8a2-4015-a959-299d2a76b1f5",
   "metadata": {},
   "source": [
    "# One Dimensional Kalman Filter"
   ]
  },
  {
   "cell_type": "markdown",
   "id": "3266faa4-deec-4776-bd65-897a235a4d08",
   "metadata": {},
   "source": [
    "For our one (physical) dimensional system, I will move a cart in simple harmonic motion backwards and forwards.\n",
    "We want to plot the estimated state, the actual state, and the error, so we need the following libraries:"
   ]
  },
  {
   "cell_type": "code",
   "execution_count": 1,
   "id": "2cb08971-8df5-4990-b373-638f05cd84c4",
   "metadata": {},
   "outputs": [],
   "source": [
    "import matplotlib\n",
    "import matplotlib.pyplot as plt\n",
    "import numpy as np"
   ]
  },
  {
   "cell_type": "markdown",
   "id": "7a19ece3-c6eb-4605-b65e-007122d77cb6",
   "metadata": {},
   "source": [
    "The state of the cart is $$\\mathbf{x}= \\begin{bmatrix} x \\\\ \\dot{x} \\end{bmatrix}$$ Where $x$ is the position."
   ]
  },
  {
   "cell_type": "markdown",
   "id": "2a69605b-3263-4a85-bd26-4eba2a623820",
   "metadata": {},
   "source": [
    "We wish to predict $\\mathbf{x}$ by measuring $x$, i.e. the position.\n",
    "A Kalman Filter is a recursive estimator, i.e. it uses a previous value of $\\mathbf{x}$ (e.g. $\\mathbf{x}_{k-1}$) to calculate a current estimate for $\\mathbf{x}$ (e.g. $\\mathbf{x}_k$). To do this we use the following equation:\n",
    "$$\\mathbf{x}_k = \\mathbf{F}_k \\mathbf{x}_{k-1} + \\mathbf{B}_k \\mathbf{u}_k + \\mathbf{w}_k$$\n",
    "Where $\\mathbf{F}$ is the state transition model, which shows how the state evolves given a previous state, and $\\mathbf{B}$ is the control-input model, which shows how the system responds when perturbed by an input. $\\mathbf{w}_k$ is the process noise, which represents some uncertiantity in the process itself."
   ]
  },
  {
   "cell_type": "markdown",
   "id": "86bfd0c6-86a6-4418-a6d8-5612a43ca9e7",
   "metadata": {},
   "source": [
    "In out one-dimensional case, we take\n",
    "$$\\mathbf{F} = \\begin{bmatrix} 1 & \\Delta t \\\\ 0 & 1 \\end{bmatrix}$$\n",
    "Where $\\Delta t$ is the time step."
   ]
  },
  {
   "cell_type": "code",
   "execution_count": 2,
   "id": "bb5fe3fd-7f75-465c-95ab-dea0a4985252",
   "metadata": {},
   "outputs": [],
   "source": [
    "DT = 0.001\n",
    "F = np.matrix([[1, DT], [0, 1]])\n",
    "t_vals = [x * DT for x in range(0,10000)]"
   ]
  },
  {
   "cell_type": "markdown",
   "id": "bb1cc28f-98ef-475d-bff9-147345483204",
   "metadata": {},
   "source": [
    "The interpretation of this matrix is just the velocity to get position.\n",
    "Our control vector is $$\\mathbf{u}_k = \\begin{bmatrix} a \\\\a\\end{bmatrix}$$\n",
    "As the system is pertubed by it's acceleration.\n",
    "\n",
    "Since the acceleration is the only thing perturbing the system we can conclude\n",
    "$$\\mathbf{B} = \\begin{bmatrix} \\frac{1}{2} {\\Delta t}^2 & 0 \\\\ 0 & \\Delta t \\end{bmatrix}$$"
   ]
  },
  {
   "cell_type": "code",
   "execution_count": 3,
   "id": "50ce6cc8-33b9-4641-88a7-c8db69d6269d",
   "metadata": {},
   "outputs": [],
   "source": [
    "B = np.matrix([[0.5 * DT ** 2, 0], [0, DT]])"
   ]
  },
  {
   "cell_type": "markdown",
   "id": "5a790bee-0cdd-46b1-9dfa-6d79b976a799",
   "metadata": {},
   "source": [
    "The other half of the Kalman Filter is the measurement step.\n",
    "$$\\mathbf{z}_k = \\mathbf{H}_k \\mathbf{x}_k + \\mathbf{v}_k$$\n",
    "Where $\\mathbf{z}_k$ is a measurement of the system, and $\\mathbf{v}_k$ is the observation noise. $\\mathbf{H}_k$ is the observation model, which describes how the system influences the measurements. Thus, the matrix $\\mathbf{H}^{-1}$ shows how a measurement would affect the state.\n",
    "In our case, we are measuring position, so we will just let $\\mathbf{z}_k = \\begin{bmatrix} x \\end{bmatrix}$, and thus $\\mathbf{H} = \\begin{bmatrix} 1 & 0 \\end{bmatrix}$"
   ]
  },
  {
   "cell_type": "code",
   "execution_count": 4,
   "id": "b1099326-fe26-4049-a154-aba6232a1247",
   "metadata": {},
   "outputs": [],
   "source": [
    "H = np.matrix([[1, 0]])"
   ]
  },
  {
   "cell_type": "markdown",
   "id": "d8f08425-473f-47bc-b7f2-28469668bbaa",
   "metadata": {},
   "source": [
    "The process noise has covariance $\\mathbf{Q}$, and the observation noise has covariance $\\mathbf{R}$. The state, $\\mathbf{x}$ also has some estimate of the covariance $\\mathbf{P}$\n",
    "For our simple case, we assume that there is no covariance, i.e. only variance. We also use a very high value for this, for demonstration purposes."
   ]
  },
  {
   "cell_type": "code",
   "execution_count": 5,
   "id": "469f16d6-2dee-40b6-a38c-48d012ae547e",
   "metadata": {},
   "outputs": [],
   "source": [
    "GN = 0.1\n",
    "\n",
    "p = np.identity(2) * GN\n",
    "q = np.identity(2) * GN\n",
    "r = np.identity(1) * GN"
   ]
  },
  {
   "cell_type": "markdown",
   "id": "1f19a0e5-fe28-42f1-8e67-01fd5c3cf529",
   "metadata": {},
   "source": [
    "We now want to create matricies to store the historical values, and define some way of calculating $\\mathbf{u}_k$"
   ]
  },
  {
   "cell_type": "code",
   "execution_count": 6,
   "id": "a5757e64-7355-43af-895e-90aff0a19f3b",
   "metadata": {},
   "outputs": [],
   "source": [
    "kalman_state = np.empty((len(t_vals), 2))\n",
    "act_state = np.empty((len(t_vals), 2))\n",
    "\n",
    "OMEGA = 2 * np.pi\n",
    "A = 2\n",
    "\n",
    "x = np.matrix([[0], [A * OMEGA]])\n",
    "\n",
    "def gen_value(i,t):\n",
    "    a = A * -(OMEGA ** 2) * np.sin(OMEGA * t)\n",
    "    v = A * OMEGA * np.cos(OMEGA * t) + A\n",
    "    x = A * np.sin(OMEGA * t) + A * t + (A if t > 5 else 0)\n",
    "\n",
    "    act_state[i] = np.matrix([x, v])\n",
    "\n",
    "    return (x, v, a)"
   ]
  },
  {
   "cell_type": "markdown",
   "id": "7d6bcc2e-efa7-43cf-8b95-53b8381cd8d0",
   "metadata": {},
   "source": [
    "And we finally want to simulate the system. The first half is the prediction stage:\n",
    "$$\\mathbf{\\hat{x}}_{k | k-1} = \\mathbf{F}_k \\mathbf{\\hat{x}}_{k-1|k-1} + \\mathbf{B}_k \\mathbf{u}_l$$\n",
    "$$\\mathbf{P}_{k|k-1} = \\mathbf{F}_k \\mathbf{P}_{k-1 | k-1} \\mathbf{F}^T_k + \\mathbf{Q}_k$$\n",
    "And the second half is the update stage:\n",
    "$$\\mathbf{\\tilde{y}}_k  =\\mathbf{z}_k - \\mathbf{H}_k \\mathbf{\\hat{x}}_{k|k-1}$$\n",
    "$$\\mathbf{S}_k = \\mathbf{H}_k \\mathbf{P}_{k|k-1} \\mathbf{H}^T_k + \\mathbf{R}_k$$\n",
    "$$\\mathbf{K}_k = \\mathbf{P}_{k|k-1} \\mathbf{H}^T_k \\mathbf{S}^{-1}_k$$\n",
    "$$\\mathbf{\\hat{x}}_{k|k} = \\mathbf{\\hat{x}}_{k|k-1} + \\mathbf{K}_k \\mathbf{\\tilde{y}}_k$$\n",
    "$$\\mathbf{P} = (\\mathbf{I} - \\mathbf{K}_k \\mathbf{H}_k)\\mathbf{P}_{k|k-1}$$\n",
    "$$\\mathbf{\\tilde{y}}_{k|k} = \\mathbf{z}_k - \\mathbf{H}_k \\mathbf{\\hat{x}}_{k|k}$$"
   ]
  },
  {
   "cell_type": "code",
   "execution_count": 7,
   "id": "cf5ddb8e-c214-4263-80b5-420a80a7ffac",
   "metadata": {},
   "outputs": [
    {
     "ename": "NameError",
     "evalue": "name 'a' is not defined",
     "output_type": "error",
     "traceback": [
      "\u001b[0;31m---------------------------------------------------------------------------\u001b[0m",
      "\u001b[0;31mNameError\u001b[0m                                 Traceback (most recent call last)",
      "\u001b[0;32m<ipython-input-7-1d9889d0f013>\u001b[0m in \u001b[0;36m<module>\u001b[0;34m\u001b[0m\n\u001b[1;32m      1\u001b[0m \u001b[0;32mfor\u001b[0m \u001b[0;34m(\u001b[0m\u001b[0mi\u001b[0m\u001b[0;34m,\u001b[0m \u001b[0mt\u001b[0m\u001b[0;34m)\u001b[0m \u001b[0;32min\u001b[0m \u001b[0menumerate\u001b[0m\u001b[0;34m(\u001b[0m\u001b[0mt_vals\u001b[0m\u001b[0;34m)\u001b[0m\u001b[0;34m:\u001b[0m\u001b[0;34m\u001b[0m\u001b[0;34m\u001b[0m\u001b[0m\n\u001b[0;32m----> 2\u001b[0;31m     \u001b[0;34m(\u001b[0m\u001b[0mx_act\u001b[0m\u001b[0;34m,\u001b[0m \u001b[0m_\u001b[0m\u001b[0;34m,\u001b[0m \u001b[0ma_act\u001b[0m\u001b[0;34m)\u001b[0m \u001b[0;34m=\u001b[0m \u001b[0mgen_value\u001b[0m\u001b[0;34m(\u001b[0m\u001b[0mi\u001b[0m\u001b[0;34m,\u001b[0m \u001b[0mt\u001b[0m\u001b[0;34m)\u001b[0m\u001b[0;34m\u001b[0m\u001b[0;34m\u001b[0m\u001b[0m\n\u001b[0m\u001b[1;32m      3\u001b[0m \u001b[0;34m\u001b[0m\u001b[0m\n\u001b[1;32m      4\u001b[0m     \u001b[0maccel\u001b[0m \u001b[0;34m=\u001b[0m \u001b[0ma_act\u001b[0m \u001b[0;34m+\u001b[0m \u001b[0mfloat\u001b[0m\u001b[0;34m(\u001b[0m\u001b[0mnp\u001b[0m\u001b[0;34m.\u001b[0m\u001b[0mrandom\u001b[0m\u001b[0;34m.\u001b[0m\u001b[0mnormal\u001b[0m\u001b[0;34m(\u001b[0m\u001b[0;36m0\u001b[0m\u001b[0;34m,\u001b[0m \u001b[0mGN\u001b[0m\u001b[0;34m,\u001b[0m \u001b[0;34m(\u001b[0m\u001b[0;36m1\u001b[0m\u001b[0;34m,\u001b[0m \u001b[0;36m1\u001b[0m\u001b[0;34m)\u001b[0m\u001b[0;34m)\u001b[0m\u001b[0;34m)\u001b[0m\u001b[0;34m\u001b[0m\u001b[0;34m\u001b[0m\u001b[0m\n\u001b[1;32m      5\u001b[0m     \u001b[0mz\u001b[0m \u001b[0;34m=\u001b[0m \u001b[0mx_act\u001b[0m \u001b[0;34m+\u001b[0m \u001b[0mfloat\u001b[0m\u001b[0;34m(\u001b[0m\u001b[0mnp\u001b[0m\u001b[0;34m.\u001b[0m\u001b[0mrandom\u001b[0m\u001b[0;34m.\u001b[0m\u001b[0mnormal\u001b[0m\u001b[0;34m(\u001b[0m\u001b[0;36m0\u001b[0m\u001b[0;34m,\u001b[0m \u001b[0mGN\u001b[0m\u001b[0;34m,\u001b[0m \u001b[0;34m(\u001b[0m\u001b[0;36m1\u001b[0m\u001b[0;34m,\u001b[0m \u001b[0;36m1\u001b[0m\u001b[0;34m)\u001b[0m\u001b[0;34m)\u001b[0m\u001b[0;34m)\u001b[0m\u001b[0;34m\u001b[0m\u001b[0;34m\u001b[0m\u001b[0m\n",
      "\u001b[0;32m<ipython-input-6-1de82f081222>\u001b[0m in \u001b[0;36mgen_value\u001b[0;34m(i, t)\u001b[0m\n\u001b[1;32m     13\u001b[0m     \u001b[0mact_state\u001b[0m\u001b[0;34m[\u001b[0m\u001b[0mi\u001b[0m\u001b[0;34m]\u001b[0m \u001b[0;34m=\u001b[0m \u001b[0mnp\u001b[0m\u001b[0;34m.\u001b[0m\u001b[0mmatrix\u001b[0m\u001b[0;34m(\u001b[0m\u001b[0;34m[\u001b[0m\u001b[0mx\u001b[0m\u001b[0;34m,\u001b[0m \u001b[0mv\u001b[0m\u001b[0;34m]\u001b[0m\u001b[0;34m)\u001b[0m\u001b[0;34m\u001b[0m\u001b[0;34m\u001b[0m\u001b[0m\n\u001b[1;32m     14\u001b[0m \u001b[0;34m\u001b[0m\u001b[0m\n\u001b[0;32m---> 15\u001b[0;31m     \u001b[0;32mreturn\u001b[0m \u001b[0;34m(\u001b[0m\u001b[0mx\u001b[0m\u001b[0;34m,\u001b[0m \u001b[0mv\u001b[0m\u001b[0;34m,\u001b[0m \u001b[0ma\u001b[0m\u001b[0;34m)\u001b[0m\u001b[0;34m\u001b[0m\u001b[0;34m\u001b[0m\u001b[0m\n\u001b[0m",
      "\u001b[0;31mNameError\u001b[0m: name 'a' is not defined"
     ]
    }
   ],
   "source": [
    "for (i, t) in enumerate(t_vals):\n",
    "    (x_act, _, a_act) = gen_value(i, t)\n",
    "        \n",
    "    accel = a_act + float(np.random.normal(0, GN, (1, 1)))\n",
    "    z = x_act + float(np.random.normal(0, GN, (1, 1)))\n",
    "       \n",
    "    u = np.matrix([[accel], [accel]])\n",
    "        \n",
    "    x_new = F.dot(x) + B.dot(u)\n",
    "    p_new = F.dot(p).dot(F.T) + q\n",
    "      \n",
    "    y = z - H.dot(x_new)\n",
    "\n",
    "    s = H.dot(p_new).dot(H.T) + r\n",
    "        \n",
    "    k = p_new.dot(H.T).dot(s.I)\n",
    "        \n",
    "    x_new_new = x_new + k.dot(y)\n",
    "              \n",
    "    p_new_new = (np.identity(2) - k.dot(H)).dot(p_new)\n",
    "        \n",
    "    y_new = z - H.dot(x_new_new)\n",
    "\n",
    "    x = x_new_new\n",
    "    p = p_new_new\n",
    "\n",
    "    kalman_state[i] = x.T"
   ]
  },
  {
   "cell_type": "markdown",
   "id": "6241f8f8-0f11-4b0b-9297-2a4ddc011a51",
   "metadata": {},
   "source": [
    "And we can now plot it"
   ]
  },
  {
   "cell_type": "code",
   "execution_count": null,
   "id": "bcfbaf03-1207-48c4-9275-08969958acda",
   "metadata": {},
   "outputs": [],
   "source": [
    "(fig, axes) = plt.subplots(3, sharex=True, figsize=(25, 25))\n",
    "\n",
    "axes[0].plot(t_vals, kalman_state[:, 0], label=\"Position ($m$)\")\n",
    "axes[0].plot(t_vals, kalman_state[:, 1], label=\"Velocity ($ms^{-1}$)\")\n",
    "axes[0].grid(True)\n",
    "axes[0].set_title(\"Estimated Position, and Velocity\")\n",
    "axes[0].set(ylabel = \"Estimated State\")\n",
    "axes[0].legend()\n",
    "\n",
    "axes[1].plot(t_vals, act_state[:, 0])\n",
    "axes[1].plot(t_vals, act_state[:, 1])\n",
    "axes[1].grid(True)\n",
    "axes[1].set_title(\"Actual Position, and Velocity\")\n",
    "axes[1].set(ylabel = \"Actual State\")\n",
    "\n",
    "err_vals = kalman_state - act_state\n",
    "\n",
    "axes[2].plot(t_vals, err_vals[:, 0])\n",
    "axes[2].plot(t_vals, err_vals[:, 1])\n",
    "axes[2].grid(True)\n",
    "axes[2].set_title(\"Absolute Error of Position, and Velocity\")\n",
    "axes[2].set(xlabel = \"Time (s)\", ylabel = \"Absolute Error\")\n",
    "\n",
    "plt.show()"
   ]
  },
  {
   "cell_type": "code",
   "execution_count": null,
   "id": "c4b56625-7a9f-4a0c-b48c-c12d840f055c",
   "metadata": {},
   "outputs": [],
   "source": []
  }
 ],
 "metadata": {
  "kernelspec": {
   "display_name": "Python 3",
   "language": "python",
   "name": "python3"
  },
  "language_info": {
   "codemirror_mode": {
    "name": "ipython",
    "version": 3
   },
   "file_extension": ".py",
   "mimetype": "text/x-python",
   "name": "python",
   "nbconvert_exporter": "python",
   "pygments_lexer": "ipython3",
   "version": "3.9.4"
  }
 },
 "nbformat": 4,
 "nbformat_minor": 5
}
